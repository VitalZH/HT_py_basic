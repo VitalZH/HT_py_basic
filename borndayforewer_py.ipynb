{
  "nbformat": 4,
  "nbformat_minor": 0,
  "metadata": {
    "colab": {
      "name": "borndayforewer.py",
      "provenance": [],
      "authorship_tag": "ABX9TyNNP0GZKLRglRFwQmA7w+cL",
      "include_colab_link": true
    },
    "kernelspec": {
      "name": "python3",
      "display_name": "Python 3"
    },
    "language_info": {
      "name": "python"
    }
  },
  "cells": [
    {
      "cell_type": "markdown",
      "metadata": {
        "id": "view-in-github",
        "colab_type": "text"
      },
      "source": [
        "<a href=\"https://colab.research.google.com/github/VitalZH/HT_py_basic/blob/main/borndayforewer_py.ipynb\" target=\"_parent\"><img src=\"https://colab.research.google.com/assets/colab-badge.svg\" alt=\"Open In Colab\"/></a>"
      ]
    },
    {
      "cell_type": "code",
      "source": [
        "'''\n",
        "12. (МОДУЛЬ 5) В проекте создать новый модуль borndayforewer.py\n",
        "13.Написать или модернизировать программу (МОДУЛЬ 3) используя условные операторы и цикл while:\n",
        "Просим пользователя ввести год рождения А.С. Пушкина до тех пор пока он не ввел правильный год, после этого спрашиваем день рождения до тех пор, пока он не ввел верный день. \n",
        "После верного ответа выводим в терминал 'Верно' и выходим из программы\n",
        "'''\n",
        "birth_y = ''\n",
        "while not birth_y.isdigit():\n",
        "  birth_y = input('Give a birth YEAR of Pushkin A.S.')\n",
        "while birth_y != '1799':\n",
        "  birth_y = input('Year is not right, please enter once again (1799) :')\n",
        "print('You are right! Birth year is 1799')\n",
        "  # birth day request\n",
        "birth_k = input('Give a birth DAY of Pushkin A.S.: ')\n",
        "#print(type(birth_k))\n",
        "while birth_k != '06 июня' and birth_k != '06.06':\n",
        "  birth_k = input('The day is not right, please enter once again 06.06 :')\n",
        "print('You are right! Birth day is 6 of jun')\n",
        "print('end')\n",
        "\n"
      ],
      "metadata": {
        "colab": {
          "base_uri": "https://localhost:8080/"
        },
        "id": "Ed96NDTa8Fo8",
        "outputId": "c64c966a-f0c6-4cf8-b2a2-c52a751d53c4"
      },
      "execution_count": null,
      "outputs": [
        {
          "output_type": "stream",
          "name": "stdout",
          "text": [
            "Give a birth YEAR of Pushkin A.S.1799\n",
            "You are right! Birth year is 1799\n",
            "Give a birth DAY of Pushkin A.S.: 06.06\n",
            "The day is not right, please enter once again 06.06 :ава\n",
            "The day is not right, please enter once again 06.06 :234\n",
            "The day is not right, please enter once again 06.06 :06 июня\n",
            "You are right! Birth day is 6 of jun\n",
            "end\n"
          ]
        }
      ]
    }
  ]
}
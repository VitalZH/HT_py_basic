{
  "nbformat": 4,
  "nbformat_minor": 0,
  "metadata": {
    "colab": {
      "name": "victory.py",
      "provenance": [],
      "authorship_tag": "ABX9TyN6Q0xT3TYGTnHCJ8wryD4b",
      "include_colab_link": true
    },
    "kernelspec": {
      "name": "python3",
      "display_name": "Python 3"
    },
    "language_info": {
      "name": "python"
    }
  },
  "cells": [
    {
      "cell_type": "markdown",
      "metadata": {
        "id": "view-in-github",
        "colab_type": "text"
      },
      "source": [
        "<a href=\"https://colab.research.google.com/github/VitalZH/HT_py_basic/blob/main/victory_py.ipynb\" target=\"_parent\"><img src=\"https://colab.research.google.com/assets/colab-badge.svg\" alt=\"Open In Colab\"/></a>"
      ]
    },
    {
      "cell_type": "code",
      "execution_count": null,
      "metadata": {
        "id": "TLpm4YFne_8z"
      },
      "outputs": [],
      "source": [
        ""
      ]
    },
    {
      "cell_type": "code",
      "source": [
        "'''\n",
        "14. (МОДУЛЬ 6) В проекте создать новый модуль victory.py\n",
        "15. Используя любые средства написать программу викторина:\n",
        "Выбрать минимум 5 известных людей и узнать их год рождения. Программа должна по очереди спрашивать у пользователя год рождения знаменитости. После того как пользователь ввел все ответы, программа считает и выводит на экран:\n",
        "- количество правильных ответов\n",
        "- количество ошибок\n",
        "- процент правильных ответов (можно посчитать как ПРАВИЛЬНЫЕ ОТВЕТЫ*100/ВСЕГО ВОПРОСОВ)\n",
        "- процент неправильных ответов\n",
        "После вывода информации программа спрашивает\n",
        "\n",
        "пользователя хочет ли он начать игру сначала, если да - то повторяем все сначала, если ответ нет - выходим из программы\n",
        "\n",
        "- В программе с помощью комментариев написать подсказки - правильные ответы для каждой знаменитости \n",
        "'''\n",
        "\n",
        "'''\n",
        "Pushkin AS - 06/06/1799\n",
        "Lermontov MU - 15/10/1814\n",
        "Gogol NV - 01/04/1809\n",
        "Dostoevskiy FM - 11\\11\\1821\n",
        "Chekhov Ap - 29/01/1860\n",
        "\n",
        "'''\n",
        "\n",
        "exit = 'yes'\n",
        "while exit == 'Yes' or exit == 'yes':\n",
        "  # _1_\n",
        "  a1 = input('Please enter Pushkin AS year of birth (06/06/1799)') \n",
        "  a11 = 1 if a1 == '1799' else 0\n",
        "  # _2_\n",
        "  a2 = input('Please enter Lermontov MU year of birth (15/10/1814)') \n",
        "  a22 = 1 if a2 == '1814' else 0\n",
        "  # _3_\n",
        "  a3 = input('Please enter Gogol NV year of birth (01/04/1809)') \n",
        "  a33 = 1 if a3 == '1809' else 0\n",
        "  # _4_\n",
        "  a4 = input('Please enter Dostoevskiy FM year of birth (11/11/1821)') \n",
        "  a44 = 1 if a4 == '1821' else 0\n",
        "  # _5_\n",
        "  a5 = input('Please enter Chekhov AP year of birth (29/01/1860)') \n",
        "  a55 = 1 if a5 == '1860' else 0\n",
        "  # stat\n",
        "  print(a11, a22, a33, a44, a55)\n",
        "  right = a11+a22+a33+a44+a55\n",
        "  wrong = 5 - right\n",
        "  righ_per = right * 100 // 5\n",
        "  wrng_per = wrong * 100 // 5\n",
        "  print('Right answers:', right, righ_per, '% of right answer', '\\nWrong answers:', wrong, wrng_per, '% of right answer')\n",
        "  exit = input('Yes - to repeat or Press any key:')\n",
        "else:\n",
        "  print('End')\n",
        "\n"
      ],
      "metadata": {
        "colab": {
          "base_uri": "https://localhost:8080/"
        },
        "id": "A2VQEkUXIwU3",
        "outputId": "5bcd564a-f611-4902-ecef-c234a310698f"
      },
      "execution_count": null,
      "outputs": [
        {
          "output_type": "stream",
          "name": "stdout",
          "text": [
            "Please enter Pushkin AS year of birth (06/06/1799)1799\n",
            "Please enter Lermontov MU year of birth (15/10/1814)1814\n",
            "Please enter Gogol NV year of birth (01/04/1809)1860\n",
            "Please enter Dostoevskiy FM year of birth (11/11/1821)1809\n",
            "Please enter Chekhov AP year of birth (29/01/1860)1821\n",
            "1 1 0 0 0\n",
            "Right answers: 2 40 % of right answer \n",
            "Wrong answers: 3 60 % of right answer\n",
            "Yes - to repeat or Press any key:no\n",
            "End\n"
          ]
        }
      ]
    }
  ]
}
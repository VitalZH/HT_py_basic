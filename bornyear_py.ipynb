{
  "nbformat": 4,
  "nbformat_minor": 0,
  "metadata": {
    "colab": {
      "name": "bornyear.py.ipynb",
      "provenance": [],
      "authorship_tag": "ABX9TyPE83KysROvtkJKNZaoVA1H",
      "include_colab_link": true
    },
    "kernelspec": {
      "name": "python3",
      "display_name": "Python 3"
    },
    "language_info": {
      "name": "python"
    }
  },
  "cells": [
    {
      "cell_type": "markdown",
      "metadata": {
        "id": "view-in-github",
        "colab_type": "text"
      },
      "source": [
        "<a href=\"https://colab.research.google.com/github/VitalZH/HT_py_basic/blob/main/bornyear_py.ipynb\" target=\"_parent\"><img src=\"https://colab.research.google.com/assets/colab-badge.svg\" alt=\"Open In Colab\"/></a>"
      ]
    },
    {
      "cell_type": "code",
      "execution_count": null,
      "metadata": {
        "colab": {
          "base_uri": "https://localhost:8080/"
        },
        "id": "bJcDrzcdw5Va",
        "outputId": "147ba22b-f8e3-4dc1-8677-e9826021cea4"
      },
      "outputs": [
        {
          "output_type": "stream",
          "name": "stdout",
          "text": [
            "Введите год рождения Пушкина А.С. (подсказка 1799): 1799\n",
            "1799 <class 'str'>\n",
            "You are right!\n"
          ]
        }
      ],
      "source": [
        "'''\n",
        "6. (МОДУЛЬ 2) В проекте создать новый модуль bornyear.py\n",
        "7. Написать программу используя условные операторы:\n",
        "- Спросить у пользователя год рождения А.С Пушкина\n",
        "- Если пользователь ввел верный год вывести 'Верно'\n",
        "- Если пользователь ошибся вывести 'Неверно'\n",
        "'''\n",
        "\n",
        "birth_y = ''\n",
        "while not birth_y.isdigit():\n",
        "  birth_y = input('Введите год рождения Пушкина А.С. (подсказка 1799): ')\n",
        "print(birth_y, type(birth_y))\n",
        "if birth_y == '1799':\n",
        "  print('You are right!')\n",
        "else:\n",
        "  print('Incorrect, try oce again.')\n",
        "\n",
        "\n",
        "\n",
        "\n",
        "\n"
      ]
    }
  ]
}
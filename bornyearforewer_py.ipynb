{
  "nbformat": 4,
  "nbformat_minor": 0,
  "metadata": {
    "colab": {
      "name": "bornyearforewer.py",
      "provenance": [],
      "authorship_tag": "ABX9TyNisBLmkpEsFqudd21KkM9r",
      "include_colab_link": true
    },
    "kernelspec": {
      "name": "python3",
      "display_name": "Python 3"
    },
    "language_info": {
      "name": "python"
    }
  },
  "cells": [
    {
      "cell_type": "markdown",
      "metadata": {
        "id": "view-in-github",
        "colab_type": "text"
      },
      "source": [
        "<a href=\"https://colab.research.google.com/github/VitalZH/HT_py_basic/blob/main/bornyearforewer_py.ipynb\" target=\"_parent\"><img src=\"https://colab.research.google.com/assets/colab-badge.svg\" alt=\"Open In Colab\"/></a>"
      ]
    },
    {
      "cell_type": "code",
      "source": [
        "'''\n",
        "10. (МОДУЛЬ 4) В проекте создать новый модуль bornyearforewer.py\n",
        "11. Написать или модернизировать программу (МОДУЛЬ 2) используя условные операторы и цикл while:\n",
        "Работа программы аналогично МОДУЛЬ 2, но спрашиваем пользователя до тех пор, пока он не введет верный год рождения.\n",
        "После ввода верного года рождения выводим в терминал 'Верно' и выходим из программы\n",
        "'''\n",
        "birth_y = ''\n",
        "while not birth_y.isdigit():\n",
        "  birth_y = input('Enter birth year of Pushkin A.S. :')\n",
        "print(birth_y, type(birth_y))\n",
        "while birth_y != '1799':\n",
        "  birth_y = input('Year is not right, please enter once again :')\n",
        "print('You are right! Birth year is 1799')\n",
        "print('end')\n",
        "\n"
      ],
      "metadata": {
        "colab": {
          "base_uri": "https://localhost:8080/"
        },
        "id": "Ed96NDTa8Fo8",
        "outputId": "cbc84ac2-5ec5-4c5d-8820-921f0f716238"
      },
      "execution_count": null,
      "outputs": [
        {
          "output_type": "stream",
          "name": "stdout",
          "text": [
            "Enter birth year of Pushkin A.S. :1790\n",
            "1790 <class 'str'>\n",
            "Year is not right, please enter once again :ee\n",
            "Year is not right, please enter once again :344\n",
            "Year is not right, please enter once again :dd\n",
            "Year is not right, please enter once again :1799\n",
            "You are right! Birth year is 1799\n",
            "end\n"
          ]
        }
      ]
    }
  ]
}
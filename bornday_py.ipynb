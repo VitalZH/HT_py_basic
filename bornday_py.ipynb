{
  "nbformat": 4,
  "nbformat_minor": 0,
  "metadata": {
    "colab": {
      "name": "bornday.py.ipynb",
      "provenance": [],
      "authorship_tag": "ABX9TyNcVcBC/+sVTbht7ftM8JBd",
      "include_colab_link": true
    },
    "kernelspec": {
      "name": "python3",
      "display_name": "Python 3"
    },
    "language_info": {
      "name": "python"
    }
  },
  "cells": [
    {
      "cell_type": "markdown",
      "metadata": {
        "id": "view-in-github",
        "colab_type": "text"
      },
      "source": [
        "<a href=\"https://colab.research.google.com/github/VitalZH/HT_py_basic/blob/main/bornday_py.ipynb\" target=\"_parent\"><img src=\"https://colab.research.google.com/assets/colab-badge.svg\" alt=\"Open In Colab\"/></a>"
      ]
    },
    {
      "cell_type": "code",
      "execution_count": 9,
      "metadata": {
        "colab": {
          "base_uri": "https://localhost:8080/"
        },
        "id": "x5q9ZuCPNbb2",
        "outputId": "7a328b55-d49a-46a2-d594-c94d0304d7a2"
      },
      "outputs": [
        {
          "output_type": "stream",
          "name": "stdout",
          "text": [
            "Give a birth YEAR of Pushkin A.S.1799\n",
            "You are right!\n",
            "Give a birth DAY of Pushkin A.S.6 июля\n",
            "Birth day is wrong!\n",
            "end\n"
          ]
        }
      ],
      "source": [
        "'''\n",
        "8. (МОДУЛЬ 3) В проекте создать новый модуль bornday.py\n",
        "9. Написать программу или модернизировать предыдущую используя условные операторы:\n",
        "- Спросить у пользователя год рождения А.С. Пушкина\n",
        "- Если пользователь ввел верный год спросить у него день рождения\n",
        "- Если день рождения введен верно вывести 'Верно'\n",
        "- Если день рождения введен неверно вывести 'Неверный день рождения'\n",
        "- Если неверно введен год, то сразу вывести 'Неверный год\n",
        "'''\n",
        "birth_y = input('Give a birth YEAR of Pushkin A.S.')\n",
        "if birth_y == '1799':\n",
        "  print('You are right!')\n",
        "  birth_d = input('Give a birth DAY of Pushkin A.S.')\n",
        "  if birth_d == '6 июня' or birth_d == '06.06':\n",
        "    print('Birth day is right!')\n",
        "  else:\n",
        "    print('Birth day is wrong!')\n",
        "else:\n",
        "  print('Wrong year, try oce again.') \n",
        "print('end')"
      ]
    },
    {
      "cell_type": "code",
      "source": [
        ""
      ],
      "metadata": {
        "id": "6WH_5a-wNgx-"
      },
      "execution_count": null,
      "outputs": []
    }
  ]
}
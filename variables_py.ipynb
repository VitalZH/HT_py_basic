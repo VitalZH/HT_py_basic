{
  "nbformat": 4,
  "nbformat_minor": 0,
  "metadata": {
    "colab": {
      "name": "variables.py",
      "provenance": [],
      "authorship_tag": "ABX9TyMGm8Nh78CwGNBQ4qOTXIAw",
      "include_colab_link": true
    },
    "kernelspec": {
      "name": "python3",
      "display_name": "Python 3"
    },
    "language_info": {
      "name": "python"
    }
  },
  "cells": [
    {
      "cell_type": "markdown",
      "metadata": {
        "id": "view-in-github",
        "colab_type": "text"
      },
      "source": [
        "<a href=\"https://colab.research.google.com/github/VitalZH/HT_py_basic/blob/main/variables_py.ipynb\" target=\"_parent\"><img src=\"https://colab.research.google.com/assets/colab-badge.svg\" alt=\"Open In Colab\"/></a>"
      ]
    },
    {
      "cell_type": "code",
      "execution_count": null,
      "metadata": {
        "colab": {
          "base_uri": "https://localhost:8080/"
        },
        "id": "JfHBrulmxiO-",
        "outputId": "ca0f1a60-3e0b-4e21-c806-f791c2d60f6b"
      },
      "outputs": [
        {
          "output_type": "stream",
          "name": "stdout",
          "text": [
            "Name:  Ivanov I.I. <class 'str'>\n",
            "Department:  logistics <class 'str'>\n",
            "Grade:  1.2 <class 'float'>\n",
            "Age:  34 <class 'int'>\n",
            "Relocted:  False <class 'bool'>\n",
            "Maretal status:  True <class 'bool'>\n"
          ]
        }
      ],
      "source": [
        "'''\n",
        "1. Создать новый проект\n",
        "2. (МОДУЛЬ 1) В проекте создать новый модуль variables.py\n",
        "3. Выбрать объект для описания из списка: овощ, еда, сотрудник, игрушка (так же можно придумать свой)\n",
        "4. Объявить переменные основных типов данных для описания этого объекта:\n",
        "5. В конце модуля с помощью функции type вывести тип для каждой из объявленных переменных\n",
        "'''\n",
        "# Home task 1-5\n",
        "var_1 = 'Ivanov I.I.' # name\n",
        " # department\n",
        "var_2 = 'logistics'\n",
        "# grade\n",
        "var_3 = 1.2\n",
        "# age\n",
        "var_4 = 34\n",
        "# relocated\n",
        "var_5 = False\n",
        "# Maretal status\n",
        "var_6 = True\n",
        "print('Name: ', var_1, type(var_1))\n",
        "print('Department: ', var_2, type(var_2))\n",
        "print('Grade: ', var_3, type(var_3))\n",
        "print('Age: ', var_4, type(var_4))\n",
        "print('Relocted: ', var_5, type(var_5))\n",
        "print('Maretal status: ', var_6, type(var_6))"
      ]
    }
  ]
}